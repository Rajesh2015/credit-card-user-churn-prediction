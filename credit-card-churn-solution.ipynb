{
 "cells": [
  {
   "cell_type": "markdown",
   "metadata": {},
   "source": [
    "# Credit Card Churn Prediction for Thera Bank\n",
    "\n",
    "## Objective\n",
    "\"\"\"\n",
    "Thera Bank has recently experienced a significant decline in the number of credit card users. Credit cards are a crucial source of income for the bank, generating various fees like annual fees, balance transfer fees, late payment fees, and others.\n",
    "\n",
    "The bank wants to:\n",
    "1. Analyze customer data to identify patterns and reasons for customer churn.\n",
    "2. Build a classification model to predict customers likely to leave.\n",
    "3. Provide actionable insights and recommendations to improve customer retention.\n",
    "\"\"\"\n",
    "## Dataset Description\n",
    "\"\"\"\n",
    "The dataset contains the following features:\n",
    "\n",
    "| **Feature**                   | **Description**                                                                                 |\n",
    "|-------------------------------|-------------------------------------------------------------------------------------------------|\n",
    "| CLIENTNUM                    | Unique identifier for the customer holding the account.                                        |\n",
    "| Attrition_Flag               | Internal event variable: \"Attrited Customer\" if the account is closed, otherwise \"Existing Customer\". |\n",
    "| Customer_Age                 | Age of the customer (in years).                                                                |\n",
    "| Gender                       | Gender of the account holder.                                                                  |\n",
    "| Dependent_count              | Number of dependents.                                                                          |\n",
    "| Education_Level              | Educational qualification (e.g., Graduate, High School, College, Post-Graduate, Doctorate).   |\n",
    "| Marital_Status               | Marital status of the account holder.                                                         |\n",
    "| Income_Category              | Annual income category of the account holder.                                                 |\n",
    "| Card_Category                | Type of credit card issued.                                                                   |\n",
    "| Months_on_book               | Duration of the relationship with the bank (in months).                                        |\n",
    "| Total_Relationship_Count     | Total number of products held by the customer.                                                |\n",
    "| Months_Inactive_12_mon       | Number of months the customer was inactive in the last 12 months.                              |\n",
    "| Contacts_Count_12_mon        | Number of contacts between the customer and the bank in the last 12 months.                   |\n",
    "| Credit_Limit                 | Credit limit on the credit card.                                                              |\n",
    "| Total_Revolving_Bal          | Revolving balance carried over from one month to the next.                                    |\n",
    "| Avg_Open_To_Buy              | Average amount available for purchases over the last 12 months.                               |\n",
    "| Total_Trans_Amt              | Total transaction amount in the last 12 months.                                               |\n",
    "| Total_Trans_Ct               | Total transaction count in the last 12 months.                                                |\n",
    "| Total_Ct_Chng_Q4_Q1          | Ratio of total transaction count in Q4 to Q1.                                                 |\n",
    "| Total_Amt_Chng_Q4_Q1         | Ratio of total transaction amount in Q4 to Q1.                                                |\n",
    "| Avg_Utilization_Ratio        | Proportion of available credit used by the customer.                                          |\n",
    "\"\"\"\n"
   ]
  }
 ],
 "metadata": {
  "language_info": {
   "name": "python"
  }
 },
 "nbformat": 4,
 "nbformat_minor": 2
}
